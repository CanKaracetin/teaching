{
 "cells": [
  {
   "cell_type": "markdown",
   "metadata": {},
   "source": [
    "<div style=\"direction:rtl;line-height:300%;\"><font face=\"XB Zar\" size=5>\n",
    "<font color=#FF7500 size=6>\n",
    "<p></p>\n",
    "<div id=\"queue\">Queue</div>\n",
    "\n",
    "Queue Operations:\n",
    "<ul style=\"margin-top:0\">\n",
    "<li>$enqueue(x)$</li>\n",
    "<li>$dequeue()$</li>\n",
    "<li>$front()$</li>\n",
    "<li>$size()$</li>\n",
    "<li>$is\\_empty()$</li>\n",
    "<li>$is\\_full()$</li>\n",
    "</ul>\n",
    "$O(1)$ \n",
    "\n",
    "<p></p>\n",
    "Impelementing by arrays\n",
    "    <p></p>\n"
   ]
  },
  {
   "cell_type": "code",
   "execution_count": 1,
   "metadata": {
    "collapsed": true
   },
   "outputs": [],
   "source": [
    "class Queue:\n",
    "    # max_size: size of Q\n",
    "    # Q: Array \n",
    "    def __init__(self, max_size):\n",
    "        self.max_size = max_size\n",
    "        self.Q = [0] * max_size\n",
    "        self.num = 0\n",
    "        self.first = 0\n",
    "    \n",
    "    def enqueue(self, item):\n",
    "        if self.num >= self.max_size:\n",
    "            raise Exception(\"Queue overflow\")\n",
    "        self.Q[(self.num + self.first) % self.max_size] = item\n",
    "        self.num += 1\n",
    "        \n",
    "        \n",
    "    def dequeue(self):\n",
    "        if self.num == 0:\n",
    "            raise Exception(\"Queue empty\")\n",
    "        item = self.Q[self.first]\n",
    "        self.first = (self.first + 1) % self.max_size\n",
    "        self.num -= 1\n",
    "        return item\n",
    "    \n",
    "     \n",
    "    def front(self):\n",
    "        if self.num == 0:\n",
    "            raise Exception(\"Queue empty\")\n",
    "        return self.Q[self.first]\n",
    "    \n",
    "    def is_empty(self):\n",
    "        return self.num == 0\n",
    "    \n",
    "    def size(self):\n",
    "        return self.num\n",
    "    \n",
    "    def is_full(self):\n",
    "        return self.num >= self.max_size"
   ]
  },
  {
   "cell_type": "code",
   "execution_count": 2,
   "metadata": {},
   "outputs": [
    {
     "name": "stdout",
     "output_type": "stream",
     "text": [
      "('queue size is: ', 3)\n",
      "(\"ra'na\", 'left the queue')\n",
      "('front of queue is:', 'vez')\n",
      "It was a queue\n"
     ]
    }
   ],
   "source": [
    "#Example\n",
    "\n",
    "q=Queue(10) # (front of queue)[](back of queue)\n",
    "q.enqueue(\"ra'na\") # [\"ra'na\"]\n",
    "q.enqueue(\"vez\") # [\"ra'na\", \"vez\"]\n",
    "q.enqueue(\"Arya\") # [\"ra'na\", \"vez\", \"Arya\"]\n",
    "print(\"queue size is: \",q.size())\n",
    "print(q.dequeue(), \"left the queue\") # [\"vez\", \"Arya\"]\n",
    "print(\"front of queue is:\",q.front())\n",
    "q.enqueue(\"milda\") # [\"vez\", \"Arya\", \"milda\"]\n",
    "q.dequeue() # [\"Arya\",\"milda\"]\n",
    "q.dequeue() # [\"milda\"]\n",
    "q.dequeue() # []\n",
    "print(\"It was a queue\")"
   ]
  },
  {
   "cell_type": "markdown",
   "metadata": {},
   "source": [
    "<div style=\"direction:rtl;line-height:300%;\"><font face=\"XB Zar\" size=5>\n",
    "<h4>Experiment</h4>\n",
    "add an ability to above code to return ith element as output\n",
    "    </font></div>"
   ]
  },
  {
   "cell_type": "markdown",
   "metadata": {},
   "source": [
    "<div style=\"direction:rtl;line-height:300%;\"><font face=\"XB Zar\" size=5>\n",
    "<font size=6 color=#FF7500>\n",
    "<p></p>\n",
    "<div id=\"stack\">Stack</div>\n",
    "<p></p>\n",
    "</font>\n",
    "<hr>\n",
    "<p></p>\n",
    "Stack Operations:\n",
    "<ul style=\"margin-top:0\">\n",
    "<li>$push(x)$: </li>\n",
    "<li>$pop()$ </li>\n",
    "<li>$top()$ </li>\n",
    "<li>$size()$ </li>\n",
    "<li>$is\\_empty()$</li>\n",
    "<li>$is\\_full()$</li>\n",
    "</ul>\n",
    " $O(1)ا\n",
    "<p></p>\n",
    "Implementing with array</font></div>"
   ]
  },
  {
   "cell_type": "code",
   "execution_count": 3,
   "metadata": {
    "collapsed": true
   },
   "outputs": [],
   "source": [
    "class Stack:\n",
    "    def __init__(self, max_size):\n",
    "        self.max_size = max_size        # Size of stack\n",
    "        self.S = [0] * max_size     # Stack array\n",
    "        self.num = 0            # Number of elements in Stack\n",
    "    \n",
    "    def push(self, item):\n",
    "        if self.num >= self.max_size:\n",
    "            raise Exception(\"Stack overflow\")\n",
    "        self.S[self.num] = item\n",
    "        self.num += 1\n",
    "        \n",
    "    def pop(self):\n",
    "        if self.num == 0:\n",
    "            raise Exception(\"Stack empty\")\n",
    "        self.num -= 1\n",
    "        return self.S[self.num]\n",
    "    \n",
    "    def top(self):\n",
    "        if self.num == 0:\n",
    "            raise Exception(\"Stack empty\")\n",
    "        return self.S[self.num-1]\n",
    "\n",
    "    \n",
    "    def size(self):\n",
    "        return self.num\n",
    "    \n",
    "    def is_full(self):\n",
    "        return self.num >= self.max_size\n",
    "    \n",
    "    def is_empty(self):\n",
    "        return self.num == 0"
   ]
  },
  {
   "cell_type": "code",
   "execution_count": 4,
   "metadata": {},
   "outputs": [
    {
     "name": "stdout",
     "output_type": "stream",
     "text": [
      "(1.5, ' is popped')\n",
      "('Top of stack: ', 30)\n",
      "('Stack is empty: ', True)\n"
     ]
    }
   ],
   "source": [
    "#Example\n",
    "\n",
    "st=Stack(10) # (top of stack)[]\n",
    "st.push(10) # [10]\n",
    "st.push(30) # [30, 10]\n",
    "st.push(1.5) # [1.5, 30, 10]\n",
    "print(st.pop(),\" is popped\") # [30, 10]\n",
    "st.push(\"salam\") # [\"salam\", 30, 10]\n",
    "st.pop() # [30, 10]\n",
    "print(\"Top of stack: \",st.top())\n",
    "st.pop() # [10]\n",
    "st.pop() # []\n",
    "print(\"Stack is empty: \",st.is_empty())"
   ]
  },
  {
   "cell_type": "markdown",
   "metadata": {},
   "source": [
    "<div style=\"direction:rtl;line-height:300%;\"><font face=\"XB Zar\" size=5>\n",
    "<font size=6 color=#FF7500>\n",
    "<p></p>\n",
    "<div id=\"deque\">Two-way Stack</div>\n",
    "<p></p>\n",
    "</font>\n",
    "<hr>\n",
    "\n",
    "<p></p>\n",
    "Operations:\n",
    "<ul style=\"margin-top:0\">\n",
    "<li>$push\\_front(x)$</li>\n",
    "<li>$push\\_back(x)$</li>\n",
    "<li>$pop\\_front(x)$ </li>\n",
    "<li>$pop\\_back(x)$</li>\n",
    "<li>$front()$</li>\n",
    "<li>$back()$</li>\n",
    "<li>$size()$</li>\n",
    "<li>$is\\_empty()$</li>\n",
    "<li>$is\\_full()$</li>\n",
    "</ul>\n",
    "<p></p>"
   ]
  },
  {
   "cell_type": "code",
   "execution_count": 5,
   "metadata": {
    "collapsed": true
   },
   "outputs": [],
   "source": [
    "class DoubleEndedQueue:\n",
    "    def __init__(self, max_size):\n",
    "        self.max_size = max_size\n",
    "        self.Q = [0] * max_size\n",
    "        self.num = 0\n",
    "        self.first = 0\n",
    "    \n",
    "    def push_back(self, item): # Like one-way queue\n",
    "        if self.num >= self.max_size:\n",
    "            raise Exception(\"Queue overflow\")\n",
    "        self.Q[(self.num + self.first) % self.max_size] = item\n",
    "        self.num += 1\n",
    "\n",
    "    def push_front(self, item): # New\n",
    "        if self.num >= self.max_size:\n",
    "            raise Exception(\"Queue overflow\")\n",
    "        self.first = (self.first - 1) % self.max_size\n",
    "        self.Q[self.first] = item\n",
    "        self.num += 1\n",
    "\n",
    "    def pop_front(self): # Like one-way queue\n",
    "        if self.num == 0:\n",
    "            raise Exception(\"Queue empty\")\n",
    "        item = self.Q[self.first]\n",
    "        self.first = (self.first + 1) % self.max_size\n",
    "        self.num -= 1\n",
    "        return item\n",
    "    \n",
    "    def front(self): # Like one-way queue\n",
    "        if self.num == 0:\n",
    "            raise Exception(\"Queue empty\")\n",
    "        return self.Q[self.first]\n",
    "        \n",
    "    def pop_back(self): # New\n",
    "        if self.num == 0:\n",
    "            raise Exception(\"Queue empty\")\n",
    "        self.num -= 1\n",
    "        return self.Q[(self.num + self.first) % self.max_size]\n",
    "    \n",
    "    def back(self): # New\n",
    "        if self.num == 0:\n",
    "            raise Exception(\"Queue empty\")\n",
    "        return self.Q[(self.num + self.first - 1) % self.max_size]\n",
    "    \n",
    "    def is_empty(self):\n",
    "        return self.num == 0\n",
    "    \n",
    "    def size(self):\n",
    "        return self.num\n",
    "    \n",
    "    def is_full(self):\n",
    "        return self.num >= self.max_size\n"
   ]
  },
  {
   "cell_type": "code",
   "execution_count": 6,
   "metadata": {},
   "outputs": [
    {
     "name": "stdout",
     "output_type": "stream",
     "text": [
      "('queue size is: ', 3)\n",
      "('back of queue is: ', 0)\n",
      "('front of queue is: ', 1)\n",
      "('queue size is: ', 0)\n"
     ]
    }
   ],
   "source": [
    "#Example\n",
    "\n",
    "dq=DoubleEndedQueue(7) # (front of queue)[](back of queue)\n",
    "dq.push_front(1) # [1]\n",
    "dq.push_back(2) # [1, 2]\n",
    "dq.push_front(4) # [4, 1, 2]\n",
    "print(\"queue size is: \",dq.size())\n",
    "dq.push_back(0) # [4, 1, 2, 0]\n",
    "print(\"back of queue is: \",dq.back())\n",
    "dq.pop_front() # [1, 2, 0]\n",
    "print(\"front of queue is: \",dq.front())\n",
    "dq.pop_back() # [1, 2]\n",
    "dq.pop_back() # [1]\n",
    "dq.pop_back() # []\n",
    "print(\"queue size is: \",dq.size())"
   ]
  },
  {
   "cell_type": "markdown",
   "metadata": {
    "collapsed": true
   },
   "source": [
    "<div style=\"direction:rtl;line-height:300%;\"><font face=\"XB Zar\" size=5>\n",
    "<font size=6 color=#FF7500>\n",
    "<p></p>\n",
    "<div id=\"linked_list\">Linked Lists</div>\n",
    "<p></p>\n",
    "</font>\n",
    "\n",
    "Linked Lists Operatoins:\n",
    "<ul style=\"margin-top:0\">\n",
    "<li>$:insert\\_after(data,x)$</li> \n",
    "<li>$:delete(x)$</li>\n",
    "<li>$:find(val)$ </li>\n",
    "<li>$:get(ind)$</li>\n",
    "<li>$:size()$ </li>\n",
    "<li>$:is\\_empty()$</li>\n",
    "</ul>\n",
    "<p></p>\n",
    "<br>\n",
    "Notice the following table:\n",
    "<table>\n",
    "<thead>\n",
    "<th bgcolor=\"#AAAAAA\"></th>\n",
    "<th style=\"text-align: center;\">&nbsp;array &nbsp;</th>\n",
    "<th style=\"text-align: center;\">Linked List</th>\n",
    "</thead>\n",
    "<tbody>\n",
    "<tr>\n",
    "    <td style=\"text-align: center;\">Insert and delet in a specific place </td>\n",
    "    <td style=\"text-align: center;\"> $O(n)$ </td>\n",
    "    <td style=\"text-align: center;\"> search time + $O(1)$ </td>\n",
    "</tr>\n",
    "<tr>\n",
    "    <td style=\"text-align: center;\">Accessing ith element </td>\n",
    "    <td style=\"text-align: center;\"> $O(1)$ </td>\n",
    "    <td style=\"text-align: center;\"> $O(n)$ </td>\n",
    "</tr>\n",
    "</tbody>\n",
    "</table>\n",
    "<br>\n",
    "\n"
   ]
  },
  {
   "cell_type": "code",
   "execution_count": 7,
   "metadata": {
    "collapsed": true,
    "scrolled": true
   },
   "outputs": [],
   "source": [
    "class Node:\n",
    "    \n",
    "    def __init__(self, data):\n",
    "        self.data = data  \n",
    "        self.next = None  \n",
    "        self.prev = None  \n",
    "    \n",
    "class List:\n",
    "    def __init__(self):        \n",
    "        self.head = Node(None)\n",
    "        self.head.next = self.head\n",
    "        self.head.prev = self.head\n",
    "        self.n = 0\n",
    "        \n",
    "    def get(self,ind):\n",
    "        if ind >=  self.size() : \n",
    "            raise Exception('Out of list')\n",
    "        x = self.head.next\n",
    "        for i in range(ind) :\n",
    "            x=x.next\n",
    "        return x\n",
    "    \n",
    "    def insert_after(self, x, data):\n",
    "        y = Node(data)\n",
    "        self.n += 1\n",
    "        y.prev = x\n",
    "        y.next = x.next\n",
    "        x.next = y\n",
    "        y.next.prev = y\n",
    "        return y\n",
    "        \n",
    "    def delete(self, x):\n",
    "        self.n -= 1\n",
    "        x.prev.next = x.next\n",
    "        x.next.prev = x.prev\n",
    "        return x\n",
    "        \n",
    "    def find(self, val):\n",
    "        x = self.head.next\n",
    "        for i in range(self.size()) :\n",
    "            if x.data == val :\n",
    "                return x\n",
    "            x=x.next\n",
    "        return None\n",
    "    \n",
    "    def size(self):\n",
    "        return self.n\n",
    "      \n",
    "    def is_empty(self):\n",
    "        return self.n==0"
   ]
  },
  {
   "cell_type": "code",
   "execution_count": 8,
   "metadata": {},
   "outputs": [
    {
     "name": "stdout",
     "output_type": "stream",
     "text": [
      "('Current size of list is', 2)\n"
     ]
    }
   ],
   "source": [
    "#Example\n",
    "\n",
    "list=List() # head\n",
    "list.insert_after(list.head,\"milad\") # head <-> milad\n",
    "list.insert_after(list.get(0),\"Arya\") # head <-> milad <-> Arya\n",
    "list.insert_after(list.find(\"Arya\").prev,\"jabbar\") # head <-> milad <-> jabbar <-> Arya \n",
    "list.delete(list.find(\"jabbar\")) # head <-> milad <-> Arya\n",
    "print(\"Current size of list is\",list.size())"
   ]
  },
  {
   "cell_type": "markdown",
   "metadata": {},
   "source": []
  },
  {
   "cell_type": "code",
   "execution_count": null,
   "metadata": {},
   "outputs": [],
   "source": []
  },
  {
   "cell_type": "code",
   "execution_count": null,
   "metadata": {},
   "outputs": [],
   "source": []
  }
 ],
 "metadata": {
  "anaconda-cloud": {},
  "kernelspec": {
   "display_name": "Python 3 (ipykernel)",
   "language": "python",
   "name": "python3"
  },
  "language_info": {
   "codemirror_mode": {
    "name": "ipython",
    "version": 3
   },
   "file_extension": ".py",
   "mimetype": "text/x-python",
   "name": "python",
   "nbconvert_exporter": "python",
   "pygments_lexer": "ipython3",
   "version": "3.8.12"
  }
 },
 "nbformat": 4,
 "nbformat_minor": 1
}
